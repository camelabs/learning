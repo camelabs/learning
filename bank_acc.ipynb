{
 "cells": [
  {
   "cell_type": "code",
   "execution_count": 2,
   "metadata": {},
   "outputs": [],
   "source": [
    "import pandas as pd\n",
    "from sklearn.model_selection import train_test_split\n",
    "import numpy as np\n",
    "\n",
    "bank_acc = pd.read_csv(r'/home/rozali/Desktop/banc account/Train.csv')"
   ]
  },
  {
   "cell_type": "code",
   "execution_count": 3,
   "metadata": {},
   "outputs": [],
   "source": [
    "from sklearn.preprocessing import LabelEncoder"
   ]
  },
  {
   "cell_type": "code",
   "execution_count": 4,
   "metadata": {},
   "outputs": [],
   "source": [
    "country = pd.get_dummies(bank_acc['country'],drop_first=True).replace([True,False],[0,1])\n",
    "bank_account = pd.get_dummies(bank_acc['bank_account'],drop_first=True).replace([True,False],[0,1])\n",
    "uniqueid= pd.get_dummies(bank_acc['uniqueid'],drop_first=True).replace([True,False],[0,1])\n",
    "location_type= pd.get_dummies(bank_acc['location_type'],drop_first=True).replace([True,False],[0,1])\n",
    "cellphone_access= pd.get_dummies(bank_acc['cellphone_access'],drop_first=True).replace([True,False],[0,1])\n",
    "gender_of_respondent= pd.get_dummies(bank_acc['gender_of_respondent'],drop_first=True).replace([True,False],[0,1])\n",
    "relationship_with_head= pd.get_dummies(bank_acc['relationship_with_head'],drop_first=True).replace([True,False],[0,1])\n",
    "marital_status= pd.get_dummies(bank_acc['marital_status'],drop_first=True).replace([True,False],[0,1])\n",
    "education_level = pd.get_dummies(bank_acc['education_level'],drop_first=True).replace([True,False],[0,1])\n",
    "job_type = pd.get_dummies(bank_acc['job_type'],drop_first=True).replace([True,False],[0,1])"
   ]
  },
  {
   "cell_type": "code",
   "execution_count": null,
   "metadata": {},
   "outputs": [],
   "source": []
  },
  {
   "cell_type": "code",
   "execution_count": null,
   "metadata": {},
   "outputs": [],
   "source": [
    "categorical_attributes = ['country','bank_account','uniqueid','location_type','cellphone_access','gender_of_respondent','relationship_with_head','marital_status','education_level','job_type']"
   ]
  },
  {
   "cell_type": "code",
   "execution_count": null,
   "metadata": {},
   "outputs": [],
   "source": [
    "numerical_attributes = [i for i in bank_acc.columns if i not in categorical_attributes]"
   ]
  },
  {
   "cell_type": "code",
   "execution_count": null,
   "metadata": {},
   "outputs": [],
   "source": [
    "label_encoder = LabelEncoder()"
   ]
  },
  {
   "cell_type": "code",
   "execution_count": null,
   "metadata": {},
   "outputs": [],
   "source": []
  }
 ],
 "metadata": {
  "kernelspec": {
   "display_name": "Python 3",
   "language": "python",
   "name": "python3"
  },
  "language_info": {
   "codemirror_mode": {
    "name": "ipython",
    "version": 3
   },
   "file_extension": ".py",
   "mimetype": "text/x-python",
   "name": "python",
   "nbconvert_exporter": "python",
   "pygments_lexer": "ipython3",
   "version": "3.10.12"
  },
  "orig_nbformat": 4
 },
 "nbformat": 4,
 "nbformat_minor": 2
}
